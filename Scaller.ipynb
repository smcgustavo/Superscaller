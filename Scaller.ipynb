{
 "cells": [
  {
   "cell_type": "code",
   "execution_count": 1,
   "metadata": {},
   "outputs": [],
   "source": [
    "import cv2 as cv\n",
    "import numpy as np\n",
    "import math"
   ]
  },
  {
   "cell_type": "code",
   "execution_count": 2,
   "metadata": {},
   "outputs": [],
   "source": [
    "#Preenchendo e Interpolando\n",
    "def escalar(imagem_original, fator):\n",
    "    dimensoes = imagem_original.shape\n",
    "    dimensoes_nova = (round(dimensoes[0] * fator), round(dimensoes[1] * fator), dimensoes[2])\n",
    "    imagem_nova = np.zeros(shape = dimensoes_nova)\n",
    "    for linha in range(dimensoes_nova[0] - 1):\n",
    "        index_l = linha / fator\n",
    "        for coluna in range(dimensoes_nova[1] - 1):\n",
    "            index_c = coluna / fator\n",
    "            for cor in range(dimensoes_nova[2]):\n",
    "                x_l = math.floor(index_l)\n",
    "                x_c = math.floor(index_c)\n",
    "                dec = index_l - x_l\n",
    "                imagem_nova[linha][coluna][cor] = (imagem_original[x_l][x_c][cor] * (1 - dec)) + (imagem_original[x_l + 1][x_c + 1][cor] * (dec))\n",
    "    return imagem_nova"
   ]
  },
  {
   "cell_type": "code",
   "execution_count": 3,
   "metadata": {},
   "outputs": [],
   "source": [
    "#Gauss blur\n",
    "def blur (imagem_nova, alpha):\n",
    "    incremento = 0\n",
    "    dimensoes_nova = imagem_nova.shape\n",
    "    for linha in range(15, dimensoes_nova[0] - 1):\n",
    "        for coluna in range(15, dimensoes_nova[1] - 1):\n",
    "            for cor in range(dimensoes_nova[2]):\n",
    "                incremento = imagem_nova[linha - 1][coluna][cor] / 4\n",
    "                incremento += imagem_nova[linha + 1][coluna][cor] / 4\n",
    "                incremento += imagem_nova[linha][coluna - 1][cor] / 4\n",
    "                incremento += imagem_nova[linha][coluna + 1][cor] / 4\n",
    "                imagem_nova[linha][coluna][cor] = (imagem_nova[linha][coluna][cor] * (1 - alpha)) + (incremento * alpha)\n",
    "    return imagem_nova"
   ]
  },
  {
   "cell_type": "code",
   "execution_count": 4,
   "metadata": {},
   "outputs": [],
   "source": [
    "def processamento(imagem, fator, alpha, nome_de_saida):\n",
    "    imagem_intermediaria = escalar(imagem, fator)\n",
    "    imagem_final = blur(imagem_intermediaria, alpha)\n",
    "    cv.imwrite(nome_de_saida, imagem_final)"
   ]
  },
  {
   "cell_type": "code",
   "execution_count": 5,
   "metadata": {},
   "outputs": [],
   "source": [
    "foto = cv.imread(\"Donut.png\")"
   ]
  },
  {
   "cell_type": "code",
   "execution_count": 6,
   "metadata": {},
   "outputs": [],
   "source": [
    "processamento(foto, 1.5, 0.65, \"Donut Esticado 0.65 2.png\")"
   ]
  },
  {
   "cell_type": "code",
   "execution_count": null,
   "metadata": {},
   "outputs": [],
   "source": []
  }
 ],
 "metadata": {
  "interpreter": {
   "hash": "63dd40a987efb7b1a807fb412cdf91fb8cfca770232b9cba893b50505c0aa631"
  },
  "kernelspec": {
   "display_name": "Python 3.8.5 ('opencv')",
   "language": "python",
   "name": "python3"
  },
  "language_info": {
   "codemirror_mode": {
    "name": "ipython",
    "version": 3
   },
   "file_extension": ".py",
   "mimetype": "text/x-python",
   "name": "python",
   "nbconvert_exporter": "python",
   "pygments_lexer": "ipython3",
   "version": "3.8.12"
  },
  "orig_nbformat": 4
 },
 "nbformat": 4,
 "nbformat_minor": 2
}
